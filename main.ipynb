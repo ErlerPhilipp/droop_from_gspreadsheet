{
 "cells": [
  {
   "cell_type": "markdown",
   "id": "cccb30d2-4108-4bc3-a4a4-cabf348d55bd",
   "metadata": {},
   "source": [
    "# Single Transferable Vote\n",
    "## Counting Tool using Droop and GSheets\n",
    "Based on https://github.com/jklundell/droop\n",
    "\n",
    "And https://github.com/custozza/droop_from_gspreadsheet\n",
    "\n",
    "Checkout submodules: `git submodule update --init --recursive`"
   ]
  },
  {
   "cell_type": "markdown",
   "id": "cd335460",
   "metadata": {},
   "source": [
    "# Setup"
   ]
  },
  {
   "cell_type": "code",
   "execution_count": null,
   "id": "9a5cf668",
   "metadata": {},
   "outputs": [],
   "source": [
    "# !pip install requests \n",
    "!pip install requests pandas numpy\n",
    "\n",
    "import requests\n",
    "import pandas as pd\n",
    "import numpy as np\n",
    "import re\n",
    "import subprocess"
   ]
  },
  {
   "cell_type": "code",
   "execution_count": null,
   "id": "3c680ecb",
   "metadata": {},
   "outputs": [],
   "source": [
    "# uncomment to install droop, running with python works anyway\n",
    "# !pip install -e deps/droop/setup.py"
   ]
  },
  {
   "cell_type": "code",
   "execution_count": 181,
   "id": "084a96be",
   "metadata": {},
   "outputs": [],
   "source": [
    "# Update these:\n",
    "SPREADSHEET_ID = '1ZaN_eCVB2kFFkmeShoGR--mXGxCig28xbw_maABR7zQ' # ID from your public spreadsheet URL\n",
    "NUM_SEATS = 14\n",
    "IGNORE_CANDIDATES = []\n",
    "\n",
    "VOTE_FILE = f'vote_seats_{NUM_SEATS}.csv'\n",
    "BLT_FILE = f'vote_seats_{NUM_SEATS}.blt'\n",
    "PATH_TO_DROOP = \"deps/droop\"\n",
    "PYTHON_COMMAND = \"python\"\n",
    "ELECTION_TITLE = \"S8_Konferenz_2023\"\n",
    "LOG_FILE = f'election_seats_{NUM_SEATS}.log'\n",
    "ELECTED_FILE = f'elected_seats_{NUM_SEATS}.txt'"
   ]
  },
  {
   "cell_type": "markdown",
   "id": "988b67f7",
   "metadata": {},
   "source": [
    "# Reading and Parsing"
   ]
  },
  {
   "cell_type": "markdown",
   "id": "3b31b2f7",
   "metadata": {},
   "source": [
    "FETCH RESULT FROM SPREAD SHEET"
   ]
  },
  {
   "cell_type": "code",
   "execution_count": 182,
   "id": "80b84797-b3da-4b4a-bd9a-058709bed626",
   "metadata": {},
   "outputs": [],
   "source": [
    "url = f\"https://docs.google.com/spreadsheets/d/{SPREADSHEET_ID}/export?exportFormat=csv\"\n",
    "\n",
    "response = requests.get(url)\n",
    "\n",
    "# Check if the request was successful (status code 200)\n",
    "if response.status_code == 200:\n",
    "    # Get the content of the CSV\n",
    "    csv_data = response.text\n",
    "\n",
    "    # Process or print the CSV data as needed\n",
    "    with open(VOTE_FILE, 'w', encoding=\"utf-8\") as f:\n",
    "        print(csv_data, file=f)\n",
    "    print(f'Downloaded vote data from {url} to {VOTE_FILE})')\n",
    "else:\n",
    "    print(f'Failed to fetch data. Status code: {response.status_code}')"
   ]
  },
  {
   "cell_type": "markdown",
   "id": "f62efda2",
   "metadata": {},
   "source": [
    "CONVERT BALLOTS MATRIX TO SORTED CANDIDATES ID PER BALLOT"
   ]
  },
  {
   "cell_type": "code",
   "execution_count": 183,
   "id": "32cb8cae",
   "metadata": {},
   "outputs": [],
   "source": [
    "# CONVERT BALLOTS MATRIX TO SORTED CANDIDATES ID PER BALLOT\n",
    "\n",
    "df = pd.read_csv(VOTE_FILE)\n",
    "\n",
    "# remove votes for ignored candidates\n",
    "if IGNORE_CANDIDATES:\n",
    "    print('before dropping ignored candidates:')\n",
    "    pd.set_option('display.max_columns', 500)\n",
    "    pd.set_option('display.width', 500)\n",
    "    print(df)\n",
    "    unknown_ignored_candidates = [c for c in IGNORE_CANDIDATES if c not in df.values[:, 0]]\n",
    "    if unknown_ignored_candidates:\n",
    "        raise ValueError(f\"Unknown candidates: {unknown_ignored_candidates}\")\n",
    "    ignore_ids = [i for i, c in enumerate(df.values[:, 0]) if c in IGNORE_CANDIDATES]\n",
    "    # shift the indexing, large->small to avoid changing the index of the next candidate\n",
    "    ignore_ids_desc = sorted(ignore_ids, reverse=True)\n",
    "    for candidate_to_ignore in ignore_ids_desc:\n",
    "        position = df.iloc[candidate_to_ignore, 1:].to_numpy().astype(np.float32)\n",
    "        position_bc = np.broadcast_to(position, (len(df), len(position)))\n",
    "        needs_shift = df.iloc[:, 1:] > position_bc\n",
    "        position_shift = np.where(needs_shift, -1, 0)\n",
    "        df.iloc[:, 1:] += position_shift\n",
    "    # set rows with ignored candidates to NaN\n",
    "    df.iloc[ignore_ids, 1:] = np.nan\n",
    "    # remove ignored candidates\n",
    "    df = df.drop(df.index[ignore_ids])\n",
    "\n",
    "    print('\\nafter dropping ignored candidates:')\n",
    "    print(df)\n",
    "\n",
    "candidates = df.values[:, 0]\n",
    "ballots = df.values[:, 1:]\n",
    "\n",
    "ballots_with_candidate_preferences = [\n",
    "                                        [(candidate, pref) \n",
    "                                        for candidate, pref in enumerate(ballot) \n",
    "                                        if not np.isnan(pref)] \n",
    "                                        for ballot in ballots.T]\n",
    "\n",
    "ballots_with_candidates_sorted_by_preference = [\n",
    "                                        [candidate \n",
    "                                        for candidate, preference in sorted(ballot, key=lambda x: x[1])] \n",
    "                                        for ballot in ballots_with_candidate_preferences]\n",
    "\n",
    "print(f'Number of candidates: {len(candidates)}, Number of ballots: {len(ballots_with_candidates_sorted_by_preference)}')\n",
    "print('\\n'.join([' '.join(str(b)) for b in ballots_with_candidates_sorted_by_preference]))\n"
   ]
  },
  {
   "cell_type": "markdown",
   "id": "40dec239",
   "metadata": {},
   "source": [
    "WRITE BLT"
   ]
  },
  {
   "cell_type": "code",
   "execution_count": null,
   "id": "35e2ab75",
   "metadata": {},
   "outputs": [],
   "source": [
    "blt_ballots = \"\\n\".join(\n",
    "    [f\"1 {' '.join([str(c+1) for c in ballot])} 0 #\" + \", \".join(candidates[c] for c in ballot)\n",
    "     for ballot in ballots_with_candidates_sorted_by_preference])\n",
    "\n",
    "blt_candidates = \"\\n\".join(f'\"{candidate} #{i}\"' for i, candidate in enumerate(candidates,1))\n",
    "\n",
    "with open(BLT_FILE, 'w') as file:\n",
    "    blt_content = f'''\n",
    "{len(candidates)} {NUM_SEATS}\n",
    "{blt_ballots}\n",
    "0 # end marker\n",
    "{blt_candidates}\n",
    "\"{ELECTION_TITLE}\" #Titel\n",
    "    '''\n",
    "    file.write(blt_content)\n",
    "    print(blt_content)"
   ]
  },
  {
   "cell_type": "markdown",
   "id": "7960a8e0",
   "metadata": {},
   "source": [
    "EXECUTE DROOP"
   ]
  },
  {
   "cell_type": "code",
   "execution_count": null,
   "id": "c16888bd",
   "metadata": {},
   "outputs": [],
   "source": [
    "# Test call directly\n",
    "# !python deps/droop/Droop.py meek vote.blt\n",
    "\n",
    "command = [PYTHON_COMMAND, PATH_TO_DROOP+'/Droop.py', \"meek\", BLT_FILE]\n",
    "print(' '.join(command))\n",
    "result = subprocess.run(command, capture_output=True, text=True)\n",
    "with open(LOG_FILE, 'w') as file:\n",
    "    file.write(result.stdout)\n",
    "\n",
    "number_of_votes = len(ballots[0])\n",
    "print('Ballots:', number_of_votes, 'Candidates:', len(candidates), 'Winners:', NUM_SEATS)\n",
    "rounds = result.stdout.split('Round ')\n",
    "election_pattern= r'Action: Elect: (?P<candidate>.*)'\n",
    "electees_in_rounds = [(i, elected.group('candidate')) \n",
    "                      for i, r in enumerate(rounds[1:],1)\n",
    "                      for elected in re.finditer(election_pattern, r) \n",
    "                       if elected ]\n",
    "\n",
    "electees_in_rounds = [(id, round, person) for id, (round, person) in enumerate(electees_in_rounds, 1)]\n",
    "\n",
    "electees_in_round = \"\\n\".join(f\"{str(id).rjust(2)}{str(round).rjust(5)} {person}\" for id, round, person in electees_in_rounds)\n",
    "elected_text = f\"\"\"\n",
    "ID ROUND NAME\n",
    "{electees_in_round}\n",
    "\"\"\"\n",
    "with open(ELECTED_FILE, 'w') as file:\n",
    "    file.write(elected_text)\n",
    "    print(elected_text)"
   ]
  }
 ],
 "metadata": {
  "kernelspec": {
   "display_name": "Python 3",
   "language": "python",
   "name": "python3"
  },
  "language_info": {
   "codemirror_mode": {
    "name": "ipython",
    "version": 3
   },
   "file_extension": ".py",
   "mimetype": "text/x-python",
   "name": "python",
   "nbconvert_exporter": "python",
   "pygments_lexer": "ipython3",
   "version": "3.8.20"
  }
 },
 "nbformat": 4,
 "nbformat_minor": 5
}
