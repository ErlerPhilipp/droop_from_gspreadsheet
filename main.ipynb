{
 "cells": [
  {
   "cell_type": "markdown",
   "id": "cccb30d2-4108-4bc3-a4a4-cabf348d55bd",
   "metadata": {},
   "source": [
    "# Single Transferable Vote\n",
    "## Counting Tool using Droop and GSheets\n",
    "Based on https://github.com/jklundell/droop\n",
    "\n",
    "And https://github.com/custozza/droop_from_gspreadsheet\n",
    "\n",
    "Checkout submodules before starting to get Droop: `git submodule update --init --recursive`"
   ]
  },
  {
   "cell_type": "markdown",
   "id": "cd335460",
   "metadata": {},
   "source": [
    "## Setup"
   ]
  },
  {
   "cell_type": "code",
   "execution_count": null,
   "id": "9a5cf668",
   "metadata": {},
   "outputs": [],
   "source": [
    "# install packages, once should be enough\n",
    "!pip install requests pandas numpy"
   ]
  },
  {
   "cell_type": "code",
   "execution_count": null,
   "id": "691cc174",
   "metadata": {},
   "outputs": [],
   "source": [
    "\n",
    "import requests\n",
    "import pandas as pd\n",
    "import numpy as np\n",
    "import re\n",
    "import subprocess\n",
    "import os\n",
    "import itertools"
   ]
  },
  {
   "cell_type": "code",
   "execution_count": null,
   "id": "084a96be",
   "metadata": {},
   "outputs": [],
   "source": [
    "# Update these:  \n",
    "# SPREADSHEET_ID = '1ZaN_eCVB2kFFkmeShoGR--mXGxCig28xbw_maABR7zQ' # ID from your public spreadsheet URL\n",
    "SPREADSHEET_ID = '1-cwFOFbDAMAmhBQCnq40DfnqgV6E17Od3w3GxY2A0ig' # ID from your public spreadsheet URL\n",
    "NUM_SEATS = 14\n",
    "IS_PREFERENCES_LIST = True  # enable if ordering is important, STV itself doesn't produce a ranking\n",
    "IGNORE_CANDIDATES = []\n",
    "\n",
    "PATH_TO_DROOP = \"deps/droop\"\n",
    "PYTHON_COMMAND = \"python\"\n",
    "ELECTION_TITLE = \"S8_Konferenz_2023\"\n",
    "\n",
    "VOTE_CSV = f'logs/vote.csv'"
   ]
  },
  {
   "cell_type": "code",
   "execution_count": null,
   "id": "eba8304c",
   "metadata": {},
   "outputs": [],
   "source": [
    "if IS_PREFERENCES_LIST:\n",
    "    eval_seats = list(range(1, NUM_SEATS + 1))\n",
    "else:\n",
    "    eval_seats = [NUM_SEATS]"
   ]
  },
  {
   "cell_type": "markdown",
   "id": "988b67f7",
   "metadata": {},
   "source": [
    "## Reading and Parsing"
   ]
  },
  {
   "cell_type": "markdown",
   "id": "3b31b2f7",
   "metadata": {},
   "source": [
    "### Fetch Result from Spreadsheet"
   ]
  },
  {
   "cell_type": "code",
   "execution_count": null,
   "id": "80b84797-b3da-4b4a-bd9a-058709bed626",
   "metadata": {},
   "outputs": [],
   "source": [
    "url = f\"https://docs.google.com/spreadsheets/d/{SPREADSHEET_ID}/export?exportFormat=csv\"\n",
    "\n",
    "response = requests.get(url)\n",
    "\n",
    "# Check if the request was successful (status code 200)\n",
    "if response.status_code == 200:\n",
    "    # Get the content of the CSV\n",
    "    csv_data = response.text\n",
    "\n",
    "    # Process or print the CSV data as needed\n",
    "    os.makedirs('logs', exist_ok=True)\n",
    "    with open(VOTE_CSV, 'w', encoding=\"utf-8\") as f:\n",
    "        print(csv_data, file=f)\n",
    "    print(f'Downloaded vote data from {url} to {VOTE_CSV})')\n",
    "else:\n",
    "    print(f'Failed to fetch data. Status code: {response.status_code}')"
   ]
  },
  {
   "cell_type": "markdown",
   "id": "f62efda2",
   "metadata": {},
   "source": [
    "### Convert Ballots Matrix to Sorted Candidates ID per Ballot"
   ]
  },
  {
   "cell_type": "code",
   "execution_count": null,
   "id": "32cb8cae",
   "metadata": {},
   "outputs": [],
   "source": [
    "# CONVERT BALLOTS MATRIX TO SORTED CANDIDATES ID PER BALLOT\n",
    "\n",
    "df = pd.read_csv(VOTE_CSV)\n",
    "\n",
    "# remove votes for ignored candidates\n",
    "if IGNORE_CANDIDATES:\n",
    "    print('before dropping ignored candidates:')\n",
    "    pd.set_option('display.max_columns', 500)\n",
    "    pd.set_option('display.width', 500)\n",
    "    print(df)\n",
    "    unknown_ignored_candidates = [c for c in IGNORE_CANDIDATES if c not in df.values[:, 0]]\n",
    "    if unknown_ignored_candidates:\n",
    "        raise ValueError(f\"Unknown candidates: {unknown_ignored_candidates}\")\n",
    "    ignore_ids = [i for i, c in enumerate(df.values[:, 0]) if c in IGNORE_CANDIDATES]\n",
    "    # shift the indexing, large->small to avoid changing the index of the next candidate\n",
    "    ignore_ids_desc = sorted(ignore_ids, reverse=True)\n",
    "    for candidate_to_ignore in ignore_ids_desc:\n",
    "        position = df.iloc[candidate_to_ignore, 1:].to_numpy().astype(np.float32)\n",
    "        position_bc = np.broadcast_to(position, (len(df), len(position)))\n",
    "        needs_shift = df.iloc[:, 1:] > position_bc\n",
    "        position_shift = np.where(needs_shift, -1, 0)\n",
    "        df.iloc[:, 1:] += position_shift\n",
    "    # set rows with ignored candidates to NaN\n",
    "    df.iloc[ignore_ids, 1:] = np.nan\n",
    "    # remove ignored candidates\n",
    "    df = df.drop(df.index[ignore_ids])\n",
    "\n",
    "    print('\\nafter dropping ignored candidates:')\n",
    "    print(df)\n",
    "\n",
    "candidates = df.values[:, 0]\n",
    "ballots = df.values[:, 1:]\n",
    "\n",
    "ballots_with_candidate_preferences = [\n",
    "                                        [(candidate, pref) \n",
    "                                        for candidate, pref in enumerate(ballot) \n",
    "                                        if not np.isnan(pref)] \n",
    "                                        for ballot in ballots.T]\n",
    "\n",
    "ballots_with_candidates_sorted_by_preference = [\n",
    "                                        [candidate \n",
    "                                        for candidate, preference in sorted(ballot, key=lambda x: x[1])] \n",
    "                                        for ballot in ballots_with_candidate_preferences]\n",
    "\n",
    "print(f'Number of candidates: {len(candidates)}, Number of ballots: {len(ballots_with_candidates_sorted_by_preference)}')\n",
    "print('\\n'.join([' '.join(str(b)) for b in ballots_with_candidates_sorted_by_preference]))\n"
   ]
  },
  {
   "cell_type": "markdown",
   "id": "d15d0ea1",
   "metadata": {},
   "source": [
    "### Write Droop's BLT Files"
   ]
  },
  {
   "cell_type": "code",
   "execution_count": null,
   "id": "35e2ab75",
   "metadata": {},
   "outputs": [],
   "source": [
    "def get_blt_file(seats: int):\n",
    "    return f'logs/vote_seats_{seats}.blt'\n",
    "\n",
    "def write_blt(seats: int):\n",
    "    blt_ballots = \"\\n\".join(\n",
    "        [f\"1 {' '.join([str(c+1) for c in ballot])} 0 #\" + \", \".join(candidates[c] for c in ballot)\n",
    "        for ballot in ballots_with_candidates_sorted_by_preference])\n",
    "\n",
    "    blt_candidates = \"\\n\".join(f'\"{candidate} #{i}\"' for i, candidate in enumerate(candidates,1))\n",
    "\n",
    "    blt_file = get_blt_file(seats)\n",
    "    with open(blt_file, 'w') as file:\n",
    "        blt_content = f'''\n",
    "{len(candidates)} {seats}\n",
    "{blt_ballots}\n",
    "0 # end marker\n",
    "{blt_candidates}\n",
    "\"{ELECTION_TITLE}\" #Titel\n",
    "        '''\n",
    "        file.write(blt_content)\n",
    "        print(blt_content)"
   ]
  },
  {
   "cell_type": "code",
   "execution_count": null,
   "id": "2a9c8670",
   "metadata": {},
   "outputs": [],
   "source": [
    "for seats in eval_seats:\n",
    "    write_blt(seats)"
   ]
  },
  {
   "cell_type": "markdown",
   "id": "afdc72fc",
   "metadata": {},
   "source": [
    "## Evaluate Ballots"
   ]
  },
  {
   "cell_type": "markdown",
   "id": "524f980a",
   "metadata": {},
   "source": [
    "### Run Droop for all seats"
   ]
  },
  {
   "cell_type": "code",
   "execution_count": null,
   "id": "c16888bd",
   "metadata": {},
   "outputs": [],
   "source": [
    "# Test call directly\n",
    "# !python deps/droop/Droop.py meek vote.blt\n",
    "\n",
    "def run_droop(seats: int) -> list:\n",
    "    blt_file = get_blt_file(seats)\n",
    "    log_file = f'logs/election_seats_{seats}.log'\n",
    "    elected_file = f'logs/elected_seats_{seats}.txt'\n",
    "\n",
    "    command = [PYTHON_COMMAND, PATH_TO_DROOP+'/Droop.py', \"meek\", blt_file]\n",
    "    print(' '.join(command))\n",
    "    result = subprocess.run(command, capture_output=True, text=True)\n",
    "    with open(log_file, 'w') as file:\n",
    "        file.write(result.stdout)\n",
    "\n",
    "    number_of_votes = len(ballots[0])\n",
    "    candidates_str = f'Candidates: {\", \".join(candidates)}'\n",
    "    stats_str = f'Ballots: {number_of_votes}, Candidates: {len(candidates)}, Winners: {seats}'\n",
    "    ignored_str = f'Ignored candidates: {\", \".join(IGNORE_CANDIDATES)}'\n",
    "\n",
    "    rounds = result.stdout.split('Round ')\n",
    "    election_pattern= r'Action: Elect: (?P<candidate>.*)'\n",
    "    electees_in_rounds = [(i, elected.group('candidate')) \n",
    "                        for i, r in enumerate(rounds[1:],1)\n",
    "                        for elected in re.finditer(election_pattern, r) \n",
    "                        if elected ]\n",
    "\n",
    "    electees_in_rounds = [(id, round, person) for id, (round, person) in enumerate(electees_in_rounds, 1)]\n",
    "\n",
    "    electees_in_round = \"\\n\".join(f\"{str(id).rjust(2)}{str(round).rjust(5)} {person}\" for id, round, person in electees_in_rounds)\n",
    "    elected_text = f\"\"\"\n",
    "{candidates_str}\n",
    "{stats_str}\n",
    "{ignored_str}\n",
    "ID ROUND NAME\n",
    "{electees_in_round}\n",
    "    \"\"\"\n",
    "    with open(elected_file, 'w') as file:\n",
    "        file.write(elected_text)\n",
    "        print(elected_text)\n",
    "\n",
    "    return electees_in_rounds"
   ]
  },
  {
   "cell_type": "code",
   "execution_count": null,
   "id": "3ddf4506",
   "metadata": {},
   "outputs": [],
   "source": [
    "electees_info_in_rounds_per_seat = [run_droop(seats) for seats in eval_seats]"
   ]
  },
  {
   "cell_type": "markdown",
   "id": "83a09566",
   "metadata": {},
   "source": [
    "### Evaluate Ranking"
   ]
  },
  {
   "cell_type": "code",
   "execution_count": null,
   "id": "21838280",
   "metadata": {},
   "outputs": [],
   "source": [
    "# Drop ID and Round columns\n",
    "electees_in_rounds_per_seat = [[person[2] for person in electees] for electees in electees_info_in_rounds_per_seat]\n",
    "for num_seats, electees in zip(eval_seats, electees_in_rounds_per_seat):\n",
    "    print(f'{num_seats} seats: {electees}')\n"
   ]
  },
  {
   "cell_type": "code",
   "execution_count": null,
   "id": "101284cc",
   "metadata": {},
   "outputs": [],
   "source": [
    "# Get changes\n",
    "new_elected_per_seat = []\n",
    "not_elected_anymore_per_seat = []\n",
    "prev_elected = []\n",
    "for num_seats in eval_seats:\n",
    "    elected = electees_in_rounds_per_seat[num_seats-1]\n",
    "    new_elected = [e for e in elected if e not in prev_elected]\n",
    "    not_elected_anymore = [e for e in prev_elected if e not in elected]\n",
    "    prev_elected = elected\n",
    "    new_elected_per_seat.append(new_elected)\n",
    "    not_elected_anymore_per_seat.append(not_elected_anymore)"
   ]
  },
  {
   "cell_type": "code",
   "execution_count": null,
   "id": "f3f400ea",
   "metadata": {},
   "outputs": [],
   "source": [
    "# Print Changes\n",
    "def print_changes(new_elected_per_seat, not_elected_anymore_per_seat, print_to_file=None):\n",
    "    print_str = ''\n",
    "    for num_seats, new_elected, not_elected_anymore in zip(eval_seats, new_elected_per_seat, not_elected_anymore_per_seat):\n",
    "        print_str += f'\\n{num_seats} seats: +{new_elected}, -{not_elected_anymore}'\n",
    "    print(print_str)\n",
    "    if print_to_file:\n",
    "        with open(print_to_file, 'w') as file:\n",
    "            file.write(print_str)\n",
    "\n",
    "print_changes(new_elected_per_seat, not_elected_anymore_per_seat)"
   ]
  },
  {
   "cell_type": "code",
   "execution_count": null,
   "id": "c0955dd2",
   "metadata": {},
   "outputs": [],
   "source": [
    "def get_preferences_for_candidate(candidate: str) -> list:\n",
    "    candidate_id = int(candidate.split(' #')[-1]) - 1\n",
    "    ballots_including_candidate = [i+1 for i, ballot in enumerate(ballots_with_candidates_sorted_by_preference) if candidate_id in ballot]\n",
    "    ballot_preferences_ids = [ballot.index(candidate_id) + 1 for ballot in ballots_with_candidates_sorted_by_preference if candidate_id in ballot]\n",
    "    return ballots_including_candidate, ballot_preferences_ids\n",
    "\n",
    "def compare_preferences(prefs1: list, prefs2: list) -> int:\n",
    "    prefs1_sorted = sorted(prefs1)\n",
    "    prefs2_sorted = sorted(prefs2)\n",
    "    zip_list = list(itertools.zip_longest(prefs1_sorted, prefs2_sorted))\n",
    "    print(f'Comparing preferences: {zip_list}')\n",
    "    for p1, p2 in zip_list:\n",
    "        if p1 is None:\n",
    "            return -1\n",
    "        elif p2 is None:\n",
    "            return 1\n",
    "        elif p1 < p2:\n",
    "            return 1\n",
    "        elif p1 > p2:\n",
    "            return -1\n",
    "\n",
    "    return 0  # equal\n",
    "\n",
    "# Test preferences comparison\n",
    "if False:\n",
    "    print(get_preferences_for_candidate('Candidate 1 #1'))\n",
    "    print(compare_preferences([1, 2, 3], [1, 2, 3]))  # equal -> 0\n",
    "    print(compare_preferences([1, 2, 3], [1, 2, 4]))  # first smaller -> 1\n",
    "    print(compare_preferences([1, 2, 3], [1, 2, 2]))  # first larger -> -1\n",
    "    print(compare_preferences([1, 2, 3], [1, 2]))  # first has more votes -> 1\n",
    "    print(compare_preferences([1, 2, 3], [1, 2, 3, 4]))  # first has less votes -> -1\n"
   ]
  },
  {
   "cell_type": "code",
   "execution_count": null,
   "id": "03e1ea7c",
   "metadata": {},
   "outputs": [],
   "source": [
    "\n",
    "# Resolve case where an electee drops out for two others and is re-elected in the next round\n",
    "new_elected_per_seat_resolved = new_elected_per_seat.copy()\n",
    "not_elected_anymore_per_seat_resolved = not_elected_anymore_per_seat.copy()\n",
    "for num_seats in eval_seats:\n",
    "    new_elected = new_elected_per_seat_resolved[num_seats-1]\n",
    "    not_elected_anymore = not_elected_anymore_per_seat_resolved[num_seats-1]\n",
    "    if len(new_elected) == 2 and len(not_elected_anymore) == 1:\n",
    "        if num_seats >= NUM_SEATS:\n",
    "            print(f'Warning: Dropout with max seats, resolve manually: {new_elected} and {not_elected_anymore} in {num_seats} seats election')\n",
    "        else:\n",
    "            if new_elected_per_seat_resolved[num_seats] != not_elected_anymore:  # not elected anymore needs to be re-elected with one more seat\n",
    "                print(f'Error: {not_elected_anymore[0]} drops out with {num_seats} seats, but is not re-elected with {num_seats+1} seats')\n",
    "            else:\n",
    "                print(f'Case to resolve: {num_seats} seats: +{new_elected}, -{not_elected_anymore}')\n",
    "\n",
    "                candidate_a, candidate_b = new_elected\n",
    "                candidate_a_ballots, candidate_a_prefs,  = get_preferences_for_candidate(candidate_a)\n",
    "                candidate_b_ballots, candidate_b_prefs = get_preferences_for_candidate(candidate_b)\n",
    "                print(f'{candidate_a} ballots: {candidate_a_ballots}')\n",
    "                print(f'{candidate_b} ballots: {candidate_b_ballots}')\n",
    "                print(f'{candidate_a} preferences: {candidate_a_prefs}')\n",
    "                print(f'{candidate_b} preferences: {candidate_b_prefs}')\n",
    "                comp_res = compare_preferences(candidate_a_prefs, candidate_b_prefs)\n",
    "                if comp_res == 0:\n",
    "                    print(f'Error: {candidate_a} and {candidate_b} have equal preferences. Resolve manually.')\n",
    "                elif comp_res == 1:\n",
    "                    print(f'{candidate_a} has better/more votes than {candidate_b}')\n",
    "                    new_elected_per_seat_resolved[num_seats-1] = [candidate_a]\n",
    "                    new_elected_per_seat_resolved[num_seats] = [candidate_b]\n",
    "                    not_elected_anymore_per_seat_resolved[num_seats-1] = []\n",
    "                elif comp_res == -1:\n",
    "                    print(f'{candidate_b} has better/more votes than {candidate_a}')\n",
    "                    new_elected_per_seat_resolved[num_seats-1] = [candidate_b]\n",
    "                    new_elected_per_seat_resolved[num_seats] = [candidate_a]\n",
    "                    not_elected_anymore_per_seat_resolved[num_seats-1] = []\n",
    "                else:\n",
    "                    print(f'Error: unexpected comparison result {comp_res}')\n",
    "    elif len(new_elected) == 1 and len(not_elected_anymore) == 0:\n",
    "        pass  # default case\n",
    "    else:\n",
    "        print(f'Warning: unexpected changes in {num_seats} seats election: +{new_elected}, -{not_elected_anymore}')\n",
    "\n",
    "print('\\nAfter resolving:')\n",
    "print_changes(new_elected_per_seat_resolved, not_elected_anymore_per_seat_resolved, print_to_file='logs/00_election_result.txt')"
   ]
  }
 ],
 "metadata": {
  "kernelspec": {
   "display_name": "Python 3",
   "language": "python",
   "name": "python3"
  },
  "language_info": {
   "codemirror_mode": {
    "name": "ipython",
    "version": 3
   },
   "file_extension": ".py",
   "mimetype": "text/x-python",
   "name": "python",
   "nbconvert_exporter": "python",
   "pygments_lexer": "ipython3",
   "version": "3.8.20"
  }
 },
 "nbformat": 4,
 "nbformat_minor": 5
}
