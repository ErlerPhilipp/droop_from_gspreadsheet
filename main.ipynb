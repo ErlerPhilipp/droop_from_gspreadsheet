{
 "cells": [
  {
   "cell_type": "markdown",
   "id": "cccb30d2-4108-4bc3-a4a4-cabf348d55bd",
   "metadata": {},
   "source": [
    "# Single Transferable Vote\n",
    "## Counting Tool using Droop and GSheets\n",
    "Based on https://github.com/jklundell/droop\n",
    "\n",
    "And https://github.com/custozza/droop_from_gspreadsheet\n"
   ]
  },
  {
   "cell_type": "markdown",
   "id": "cd335460",
   "metadata": {},
   "source": [
    "# Setup"
   ]
  },
  {
   "cell_type": "code",
   "execution_count": null,
   "id": "9a5cf668",
   "metadata": {},
   "outputs": [],
   "source": [
    "# !pip install requests \n",
    "!pip install requests pandas numpy\n",
    "\n",
    "import requests\n",
    "import pandas as pd\n",
    "import numpy as np\n",
    "import re\n",
    "import subprocess"
   ]
  },
  {
   "cell_type": "code",
   "execution_count": null,
   "id": "3c680ecb",
   "metadata": {},
   "outputs": [],
   "source": [
    "!pip install -e deps/droop\n",
    "# ignore egg not found error"
   ]
  },
  {
   "cell_type": "code",
   "execution_count": 181,
   "id": "084a96be",
   "metadata": {},
   "outputs": [],
   "source": [
    "# Update these:\n",
    "SPREADSHEET_ID = '1ZaN_eCVB2kFFkmeShoGR--mXGxCig28xbw_maABR7zQ' # ID from your public spreadsheet URL\n",
    "VOTE_FILE = 'vote.csv'\n",
    "BLT_FILE = 'vote.blt'\n",
    "PATH_TO_DROOP = \"deps/droop\"\n",
    "PYTHON_COMMAND = \"python\"\n",
    "ELECTION_TITLE = \"Konferenz\"\n",
    "LOG_FILE = 'election.log'\n",
    "ELECTED_FILE = 'elected.txt'\n",
    "NUM_SEATS = 11"
   ]
  },
  {
   "cell_type": "markdown",
   "id": "988b67f7",
   "metadata": {},
   "source": [
    "# Reading and Parsing"
   ]
  },
  {
   "cell_type": "markdown",
   "id": "3b31b2f7",
   "metadata": {},
   "source": [
    "FETCH RESULT FROM SPREAD SHEET"
   ]
  },
  {
   "cell_type": "code",
   "execution_count": 182,
   "id": "80b84797-b3da-4b4a-bd9a-058709bed626",
   "metadata": {},
   "outputs": [],
   "source": [
    "url = f\"https://docs.google.com/spreadsheets/d/{SPREADSHEET_ID}/export?exportFormat=csv\"\n",
    "\n",
    "response = requests.get(url)\n",
    "\n",
    "# Check if the request was successful (status code 200)\n",
    "if response.status_code == 200:\n",
    "    # Get the content of the CSV\n",
    "    csv_data = response.text\n",
    "\n",
    "    # Process or print the CSV data as needed\n",
    "    with open(VOTE_FILE, 'w', encoding=\"utf-8\") as f:\n",
    "        print(csv_data, file=f)\n",
    "else:\n",
    "    print(f\"Failed to fetch data. Status code: {response.status_code}\")"
   ]
  },
  {
   "cell_type": "markdown",
   "id": "f62efda2",
   "metadata": {},
   "source": [
    "CONVERT BALLOTS MATRIX TO SORTED CANDIDATES ID PER BALLOT"
   ]
  },
  {
   "cell_type": "code",
   "execution_count": 183,
   "id": "32cb8cae",
   "metadata": {},
   "outputs": [],
   "source": [
    "# # control terminal output\n",
    "# lines = csv_data.split('\\n')\n",
    "# candidates = [[line.split(',')[0], line.strip().split(',')[1:]] for line in lines[1:]]\n",
    "# longest_name_length = max([len(c[0]) for c in candidates])\n",
    "\n",
    "# for i, (c, votes) in enumerate(candidates):\n",
    "#     print(f\"{i+1:2})\", c.ljust(longest_name_length+5), '\\t'.join(votes))\n",
    "\n",
    "\n",
    "# CONVERT BALLOTS MATRIX TO SORTED CANDIDATES ID PER BALLOT\n",
    "\n",
    "df = pd.read_csv(VOTE_FILE)\n",
    "# number_of_winners = re.search(r'\\d+', df.columns[0]).group()\n",
    "\n",
    "candidates = df.values[:, 0]\n",
    "ballots = df.values[:, 1:]\n",
    "\n",
    "ballots_with_candidate_preferences = [\n",
    "                                        [(candidate, pref) \n",
    "                                        for candidate, pref in enumerate(ballot) \n",
    "                                        if not np.isnan(pref)] \n",
    "                                        for ballot in ballots.T]\n",
    "\n",
    "ballots_with_candidates_sorted_by_preference = [\n",
    "                                        [candidate \n",
    "                                        for candidate, preference in sorted(ballot, key=lambda x: x[1])] \n",
    "                                        for ballot in ballots_with_candidate_preferences]\n"
   ]
  },
  {
   "cell_type": "code",
   "execution_count": 184,
   "id": "2300bbb0",
   "metadata": {},
   "outputs": [],
   "source": [
    "# # transform to create blt\n",
    "\n",
    "# number_of_votes = len(candidates[0][1])\n",
    "# number_of_candidates = len(candidates)\n",
    "\n",
    "# ballot_matrix =  [[None] * number_of_candidates for _ in range(number_of_votes)]\n",
    "\n",
    "# for ballot in range(number_of_votes): \n",
    "#     for candidate in range(number_of_candidates):\n",
    "#         placement = candidates[candidate][1][ballot]\n",
    "#         if placement:\n",
    "#             placement = int(placement)\n",
    "#             assert ballot_matrix[ballot][placement-1] == None\n",
    "#             ballot_matrix[ballot][placement-1] = candidate + 1 # correcting the 0 indexing\n",
    "#         else:\n",
    "#             # empty slot\n",
    "#             pass\n",
    "\n",
    "\n",
    "# # remove empty fields\n",
    "# ballot_matrix = [[placement for placement in ballot if placement] for ballot in ballot_matrix ]\n",
    "    \n",
    "# # print for control\n",
    "# for i, ballot in enumerate(ballot_matrix):\n",
    "#     names = [candidates[c-1][0] for c in ballot] # c-1 due to the shift of indexing of candidates\n",
    "#     ballot = [str(b) for b in ballot]\n",
    "#     print(i, \" \".join(ballot), '|', \",\".join(names))\n"
   ]
  },
  {
   "cell_type": "markdown",
   "id": "40dec239",
   "metadata": {},
   "source": [
    "WRITE BLT"
   ]
  },
  {
   "cell_type": "code",
   "execution_count": null,
   "id": "35e2ab75",
   "metadata": {},
   "outputs": [],
   "source": [
    "# pattern = r'\\d+'\n",
    "\n",
    "# # Search for the first number in the text to extract the number of winners\n",
    "# # match = re.search(pattern, lines[0].split(',')[0])  \n",
    "# # number_of_winners = match.group()\n",
    "    \n",
    "# with open(BLT_FILE, \"w\", encoding=\"utf-8\") as f:\n",
    "#     print(number_of_candidates, NUM_SEATS, file = f)\n",
    "#     for i, ballot in enumerate(ballot_matrix):\n",
    "#         ballot = [str(b) for b in ballot]\n",
    "#         print(1, \" \".join(ballot), 0, file=f)\n",
    "#     print(0, '# end of ballots marker', file=f)\n",
    "#     for i, candidate in enumerate(candidates):\n",
    "#         print(f'\"{candidate[0]}\" #{i+1}', file=f)  # offset due to shift\n",
    "#     print('\"Sektion 8 Jahreskonferenz 2023\"', file=f)\n",
    "\n",
    "blt_ballots = \"\\n\".join(\n",
    "    [f\"1 {' '.join([str(c+1) for c in ballot])} 0 #\" + \", \".join(candidates[c] for c in ballot)\n",
    "     for ballot in ballots_with_candidates_sorted_by_preference])\n",
    "\n",
    "blt_candidates = \"\\n\".join(f'\"{candidate} #{i}\"' for i, candidate in enumerate(candidates,1))\n",
    "\n",
    "with open('vote.blt', 'w') as file:\n",
    "    blt_content = f\"\"\"\n",
    "    {len(candidates)} {NUM_SEATS}\n",
    "    {blt_ballots}\n",
    "    0 # end marker\n",
    "    {blt_candidates}\n",
    "    \"{ELECTION_TITLE}\" #Titel\n",
    "    \"\"\"\n",
    "    file.write(blt_content)\n",
    "    print(blt_content)"
   ]
  },
  {
   "cell_type": "markdown",
   "id": "7960a8e0",
   "metadata": {},
   "source": [
    "EXECUTE DROOP"
   ]
  },
  {
   "cell_type": "code",
   "execution_count": null,
   "id": "c16888bd",
   "metadata": {},
   "outputs": [],
   "source": [
    "command = [PYTHON_COMMAND, PATH_TO_DROOP+'/Droop.py', \"meek\", BLT_FILE]\n",
    "print(' '.join(command))\n",
    "result = subprocess.run(command, capture_output=True, text=True)\n",
    "with open(LOG_FILE, 'w') as file:\n",
    "    file.write(result.stdout)\n",
    "\n",
    "print('Ballots:', number_of_votes, 'Candidates:', number_of_candidates, 'Winners:', NUM_SEATS)\n",
    "rounds = result.stdout.split('Round ')\n",
    "election_pattern= r'Action: Elect: (?P<candidate>.*)'\n",
    "electees_in_rounds = [(i, elected.group('candidate')) \n",
    "                      for i, r in enumerate(rounds[1:],1)\n",
    "                      for elected in re.finditer(election_pattern, r) \n",
    "                       if elected ]\n",
    "\n",
    "electees_in_round = \"\\n\".join(f\"{str(round).rjust(5)} {person}\" for round, person in electees_in_rounds)\n",
    "elected_text = f\"\"\"\n",
    "ROUND NAME\n",
    "{electees_in_round}\n",
    "\"\"\"\n",
    "with open(ELECTED_FILE, 'w') as file:\n",
    "    file.write(elected_text)\n",
    "    print(elected_text)"
   ]
  },
  {
   "cell_type": "code",
   "execution_count": 187,
   "id": "b3bfa145",
   "metadata": {},
   "outputs": [],
   "source": [
    "# Test call directly\n",
    "# !python deps/droop/Droop.py meek vote.blt"
   ]
  }
 ],
 "metadata": {
  "kernelspec": {
   "display_name": "Python 3",
   "language": "python",
   "name": "python3"
  },
  "language_info": {
   "codemirror_mode": {
    "name": "ipython",
    "version": 3
   },
   "file_extension": ".py",
   "mimetype": "text/x-python",
   "name": "python",
   "nbconvert_exporter": "python",
   "pygments_lexer": "ipython3",
   "version": "3.8.20"
  }
 },
 "nbformat": 4,
 "nbformat_minor": 5
}
